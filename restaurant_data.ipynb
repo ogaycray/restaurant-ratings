{
 "cells": [
  {
   "cell_type": "markdown",
   "metadata": {},
   "source": [
    "### Task 1"
   ]
  },
  {
   "cell_type": "code",
   "execution_count": null,
   "metadata": {},
   "outputs": [],
   "source": [
    "## Install the required libraries\n",
    "%pip install requests\n",
    "%pip install geopy"
   ]
  },
  {
   "cell_type": "code",
   "execution_count": null,
   "metadata": {},
   "outputs": [],
   "source": [
    "## Loading libraries\n",
    "import json\n",
    "from urllib.request import urlopen\n",
    "import csv\n",
    "from geopy.geocoders import Nominatim"
   ]
  },
  {
   "cell_type": "code",
   "execution_count": null,
   "metadata": {},
   "outputs": [],
   "source": [
    "## Loading the json file and viewing the contents of the data\n",
    "url = \"https://raw.githubusercontent.com/Papagoat/brain-assessment/main/restaurant_data.json\"\n",
    "\n",
    "with urlopen(url) as response:\n",
    "    source = response.read()\n",
    "    \n",
    "data = json.loads(source)\n",
    "print(json.dumps(data, indent=2))\n"
   ]
  },
  {
   "cell_type": "code",
   "execution_count": null,
   "metadata": {},
   "outputs": [],
   "source": [
    "## Understanding the structure of the data better\n",
    "#len(data)\n",
    "#len(data[0])\n",
    "#len(data[0].get(\"restaurants\"))"
   ]
  },
  {
   "cell_type": "code",
   "execution_count": null,
   "metadata": {},
   "outputs": [],
   "source": [
    "## Extracing the relevant fields\n",
    "restaurants = []\n",
    "\n",
    "geolocator = Nominatim(user_agent=\"google\")\n",
    "\n",
    "countries = {} #to reduce number of times getting geocode, speed up the process\n",
    "\n",
    "for i in data:\n",
    "    for j in i.get(\"restaurants\"):\n",
    "        city = j.get(\"restaurant\")[\"location\"][\"city\"]\n",
    "        country_id = j.get(\"restaurant\")[\"location\"][\"country_id\"]\n",
    "\n",
    "        if country_id not in countries:\n",
    "            location = geolocator.geocode(city, language=\"en\")\n",
    "            country = location.address.split(',')[-1]\n",
    "            countries[country_id] = country\n",
    "        else:\n",
    "            country = countries[country_id]\n",
    "\n",
    "        entry = [j.get(\"restaurant\")[\"id\"], j.get(\"restaurant\")[\"name\"], country, \n",
    "                city, j.get(\"restaurant\")[\"user_rating\"][\"votes\"], \n",
    "                float(j.get(\"restaurant\")[\"user_rating\"][\"aggregate_rating\"]), \n",
    "                j.get(\"restaurant\")[\"cuisines\"]]\n",
    "        restaurants.append(entry)\n",
    "        \n",
    "    "
   ]
  },
  {
   "cell_type": "code",
   "execution_count": null,
   "metadata": {},
   "outputs": [],
   "source": [
    "## Coverting to csv file\n",
    "csvheader = [\"RESTAURANT ID\", \"RESTAURANT NAME\", \"COUNTRY\", \"CITY\",\n",
    "             \"USER RATING VOTES\", \"USER AGGREGATE RATING\", \"CUISINES\"]\n",
    "\n",
    "with open(\"restaurants.csv\", \"w\", encoding=\"UTF-8\", newline=\"\") as file:\n",
    "    writer = csv.writer(file)\n",
    "    writer.writerow(csvheader)\n",
    "    writer.writerows(restaurants)"
   ]
  }
 ],
 "metadata": {
  "kernelspec": {
   "display_name": "Python 3",
   "language": "python",
   "name": "python3"
  },
  "language_info": {
   "codemirror_mode": {
    "name": "ipython",
    "version": 3
   },
   "file_extension": ".py",
   "mimetype": "text/x-python",
   "name": "python",
   "nbconvert_exporter": "python",
   "pygments_lexer": "ipython3",
   "version": "3.12.2"
  }
 },
 "nbformat": 4,
 "nbformat_minor": 2
}
