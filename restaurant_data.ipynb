{
 "cells": [
  {
   "cell_type": "markdown",
   "metadata": {},
   "source": [
    "### Part 1"
   ]
  },
  {
   "cell_type": "code",
   "execution_count": null,
   "metadata": {},
   "outputs": [],
   "source": [
    "## Install the required libraries\n",
    "%pip install requests\n",
    "%pip install openpyxl"
   ]
  },
  {
   "cell_type": "code",
   "execution_count": null,
   "metadata": {},
   "outputs": [],
   "source": [
    "## Loading libraries\n",
    "import json\n",
    "from urllib.request import urlopen\n",
    "import csv\n",
    "import pandas as pd"
   ]
  },
  {
   "cell_type": "code",
   "execution_count": null,
   "metadata": {},
   "outputs": [],
   "source": [
    "## Loading the json file and viewing the contents of the data\n",
    "url = \"https://raw.githubusercontent.com/Papagoat/brain-assessment/main/restaurant_data.json\"\n",
    "\n",
    "with urlopen(url) as response:\n",
    "    source = response.read()\n",
    "    \n",
    "data = json.loads(source)\n",
    "print(json.dumps(data, indent=2))\n"
   ]
  },
  {
   "cell_type": "code",
   "execution_count": null,
   "metadata": {},
   "outputs": [],
   "source": [
    "## Understanding the structure of the data better\n",
    "#len(data)\n",
    "#len(data[0])\n",
    "#len(data[0][\"restaurants\"])"
   ]
  },
  {
   "cell_type": "code",
   "execution_count": null,
   "metadata": {},
   "outputs": [],
   "source": [
    "## Getting the Countries mapped to each Country Code\n",
    "df = pd.read_excel('Country-Code.xlsx')\n",
    "country_codes = dict(zip(df['Country Code'], df['Country'])) "
   ]
  },
  {
   "cell_type": "code",
   "execution_count": null,
   "metadata": {},
   "outputs": [],
   "source": [
    "## Extracing the relevant fields\n",
    "restaurants = []\n",
    "\n",
    "for i in data:\n",
    "    for j in i[\"restaurants\"]:\n",
    "        country_id = j[\"restaurant\"][\"location\"][\"country_id\"]\n",
    "        if country_id in country_codes:\n",
    "            country = country_codes[country_id]\n",
    "        else:\n",
    "            country = \"NA\"\n",
    "        entry = [j[\"restaurant\"][\"id\"], j[\"restaurant\"][\"name\"], country, \n",
    "                 j[\"restaurant\"][\"location\"][\"city\"], j[\"restaurant\"][\"user_rating\"][\"votes\"], \n",
    "                 float(j[\"restaurant\"][\"user_rating\"][\"aggregate_rating\"]), j[\"restaurant\"][\"cuisines\"]]\n",
    "        restaurants.append(entry)\n",
    "        \n",
    "    "
   ]
  },
  {
   "cell_type": "code",
   "execution_count": null,
   "metadata": {},
   "outputs": [],
   "source": [
    "## Coverting to csv file\n",
    "csvheader = [\"RESTAURANT ID\", \"RESTAURANT NAME\", \"COUNTRY\", \"CITY\",\n",
    "             \"USER RATING VOTES\", \"USER AGGREGATE RATING\", \"CUISINES\"]\n",
    "\n",
    "with open(\"restaurants.csv\", \"w\", encoding=\"UTF-8\", newline=\"\") as file:\n",
    "    writer = csv.writer(file)\n",
    "    writer.writerow(csvheader)\n",
    "    writer.writerows(restaurants)"
   ]
  },
  {
   "cell_type": "markdown",
   "metadata": {},
   "source": [
    "### Part 2"
   ]
  },
  {
   "cell_type": "code",
   "execution_count": null,
   "metadata": {},
   "outputs": [],
   "source": [
    "## Install libraries\n",
    "%pip install pandas"
   ]
  },
  {
   "cell_type": "code",
   "execution_count": null,
   "metadata": {},
   "outputs": [],
   "source": [
    "## Loading libraries to be used\n",
    "import pandas as pd\n",
    "from datetime import datetime"
   ]
  },
  {
   "cell_type": "code",
   "execution_count": null,
   "metadata": {},
   "outputs": [],
   "source": [
    "## Extracting the relevant fields for restaurants that have past events in the month of April 2019\n",
    "events = []\n",
    "\n",
    "april = pd.date_range(start='4/1/2019', end='4-30-2019').date\n",
    "format = '%Y-%m-%d'\n",
    "\n",
    "for i in data:\n",
    "    for j in i[\"restaurants\"]:\n",
    "\n",
    "        if \"zomato_events\" in j[\"restaurant\"]:\n",
    "            for k in j[\"restaurant\"][\"zomato_events\"]:\n",
    "                start = datetime.strptime(k[\"event\"][\"start_date\"], format).date()\n",
    "                end = datetime.strptime(k[\"event\"][\"end_date\"], format).date()\n",
    "                \n",
    "                if (start in april or end in april) or (start < april[0] and end > april[-1]):\n",
    "                    url = ', \\n'.join([m[\"photo\"][\"url\"] for m in k[\"event\"][\"photos\"]])\n",
    "                    entry = [k[\"event\"][\"event_id\"], j[\"restaurant\"][\"id\"], j[\"restaurant\"][\"name\"], \n",
    "                             url, k[\"event\"][\"title\"], start, end]\n",
    "                    events.append(entry)"
   ]
  },
  {
   "cell_type": "code",
   "execution_count": null,
   "metadata": {},
   "outputs": [],
   "source": [
    "## Coverting to csv file\n",
    "import csv\n",
    "csvheader = [\"EVENT ID\", \"RESTAURANT ID\", \"RESTAURANT NAME\", \"PHOTO URL\",\n",
    "             \"EVENT TITLE\", \"EVENT START DATE\", \"EVENT END DATE\"]\n",
    "\n",
    "with open(\"restaurants_events.csv\", \"w\", encoding=\"UTF-8\", newline=\"\") as file:\n",
    "    writer = csv.writer(file)\n",
    "    writer.writerow(csvheader)\n",
    "\n",
    "    # populating empty cells with N.A.\n",
    "    for event in events:\n",
    "        event = [e if e != \"\" else 'N.A.' for e in event]\n",
    "        writer.writerow(event)"
   ]
  },
  {
   "cell_type": "markdown",
   "metadata": {},
   "source": [
    "### Part 3"
   ]
  },
  {
   "cell_type": "code",
   "execution_count": 40,
   "metadata": {},
   "outputs": [
    {
     "name": "stdout",
     "output_type": "stream",
     "text": [
      "{'Excellent': 4.5, 'Very Good': 4.0, 'Good': 3.5, 'Average': 2.5, 'Poor': 2.2}\n"
     ]
    }
   ],
   "source": [
    "## Getting the thresholds for different text ratings\n",
    "text = [\"Excellent\", \"Very Good\", \"Good\", \"Average\", \"Poor\"]\n",
    "threshold = {\"Excellent\": 5.0, \"Very Good\": 5.0,\"Good\": 5.0, \"Average\": 5.0, \"Poor\": 5.0}\n",
    "\n",
    "for i in data:\n",
    "    for j in i[\"restaurants\"]:\n",
    "        rating_text = j[\"restaurant\"][\"user_rating\"][\"rating_text\"]\n",
    "        aggregate_rating = float(j[\"restaurant\"][\"user_rating\"][\"aggregate_rating\"])\n",
    "        if rating_text in text:\n",
    "            if rating_text in threshold:\n",
    "                if aggregate_rating < threshold[rating_text]:\n",
    "                    threshold[rating_text] = aggregate_rating\n",
    "\n",
    "print(threshold)"
   ]
  },
  {
   "cell_type": "markdown",
   "metadata": {},
   "source": [
    "However, assuming that the lowest rating is Poor, the threshold should be 0 instead. Thus, threshold of different rating text based on aggregate rating: \n",
    "\n",
    "Excellent: 4.5 ≤ x ≤ 5.0\n",
    "\n",
    "Very Good: 4.0 ≤ x < 4.5\n",
    "\n",
    "Good: 3.5 ≤ x < 4.0\n",
    "\n",
    "Average: 2.5 ≤ x  < 3.5\n",
    "\n",
    "Poor: x < 2.5"
   ]
  }
 ],
 "metadata": {
  "kernelspec": {
   "display_name": "Python 3",
   "language": "python",
   "name": "python3"
  },
  "language_info": {
   "codemirror_mode": {
    "name": "ipython",
    "version": 3
   },
   "file_extension": ".py",
   "mimetype": "text/x-python",
   "name": "python",
   "nbconvert_exporter": "python",
   "pygments_lexer": "ipython3",
   "version": "3.12.2"
  }
 },
 "nbformat": 4,
 "nbformat_minor": 2
}
