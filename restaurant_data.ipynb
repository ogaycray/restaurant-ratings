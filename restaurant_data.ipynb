{
 "cells": [
  {
   "cell_type": "code",
   "execution_count": null,
   "metadata": {},
   "outputs": [],
   "source": [
    "## Install the required libraries\n",
    "%pip install requests\n",
    "%pip install pandas\n",
    "%pip install openpyxl"
   ]
  },
  {
   "cell_type": "code",
   "execution_count": null,
   "metadata": {},
   "outputs": [],
   "source": [
    "## Loading libraries\n",
    "import json\n",
    "from urllib.request import urlopen\n",
    "import csv\n",
    "import pandas as pd\n",
    "from datetime import datetime"
   ]
  },
  {
   "cell_type": "markdown",
   "metadata": {},
   "source": [
    "## Task 1"
   ]
  },
  {
   "cell_type": "markdown",
   "metadata": {},
   "source": [
    "### Part 1"
   ]
  },
  {
   "cell_type": "code",
   "execution_count": null,
   "metadata": {},
   "outputs": [],
   "source": [
    "## Loading the json file and viewing the contents of the data\n",
    "\n",
    "def load_json(url):\n",
    "    with urlopen(url) as response:\n",
    "        source = response.read()\n",
    "    data = json.loads(source)\n",
    "    print(json.dumps(data, indent=2))\n",
    "    return data\n",
    "\n",
    "url = \"https://raw.githubusercontent.com/Papagoat/brain-assessment/main/restaurant_data.json\"\n",
    "\n",
    "data = load_json(url)\n"
   ]
  },
  {
   "cell_type": "code",
   "execution_count": null,
   "metadata": {},
   "outputs": [],
   "source": [
    "## Understanding the structure of the data better\n",
    "#len(data)\n",
    "#len(data[0])\n",
    "#len(data[0][\"restaurants\"])"
   ]
  },
  {
   "cell_type": "code",
   "execution_count": null,
   "metadata": {},
   "outputs": [],
   "source": [
    "## Getting the Country Code dictionary from the Excel file\n",
    "def country_codes(file):\n",
    "    df = pd.read_excel(file)\n",
    "    country_codes = dict(zip(df['Country Code'], df['Country'])) \n",
    "    return country_codes\n",
    "\n",
    "country_codes = country_codes('Country-Code.xlsx')"
   ]
  },
  {
   "cell_type": "code",
   "execution_count": null,
   "metadata": {},
   "outputs": [],
   "source": [
    "## Extracing the relevant fields\n",
    "\n",
    "def get_restaurants(data):\n",
    "    restaurants = []\n",
    "    for i in data:\n",
    "        for j in i[\"restaurants\"]:\n",
    "            country_id = j[\"restaurant\"][\"location\"][\"country_id\"]\n",
    "            if country_id in country_codes:\n",
    "                country = country_codes[country_id]\n",
    "            else:\n",
    "                country = \"NA\"\n",
    "            entry = [j[\"restaurant\"][\"id\"], j[\"restaurant\"][\"name\"], country, \n",
    "                    j[\"restaurant\"][\"location\"][\"city\"], j[\"restaurant\"][\"user_rating\"][\"votes\"], \n",
    "                    float(j[\"restaurant\"][\"user_rating\"][\"aggregate_rating\"]), j[\"restaurant\"][\"cuisines\"]]\n",
    "            restaurants.append(entry)\n",
    "    return restaurants\n",
    "        \n",
    "restaurants = get_restaurants(data)    "
   ]
  },
  {
   "cell_type": "code",
   "execution_count": null,
   "metadata": {},
   "outputs": [],
   "source": [
    "## Coverting to csv file\n",
    "def to_csv(headers, filename, data):\n",
    "    with open(filename, \"w\", encoding=\"UTF-8\", newline=\"\") as file:\n",
    "        writer = csv.writer(file)\n",
    "        writer.writerow(headers)\n",
    "        writer.writerows(data)\n",
    "\n",
    "csvheader = [\"RESTAURANT ID\", \"RESTAURANT NAME\", \"COUNTRY\", \"CITY\",\n",
    "                \"USER RATING VOTES\", \"USER AGGREGATE RATING\", \"CUISINES\"]\n",
    "\n",
    "to_csv(csvheader, \"restaurants.csv\", restaurants)"
   ]
  },
  {
   "cell_type": "markdown",
   "metadata": {},
   "source": [
    "### Part 2"
   ]
  },
  {
   "cell_type": "code",
   "execution_count": null,
   "metadata": {},
   "outputs": [],
   "source": [
    "## Extracting the relevant fields for restaurants that have past events in the month of April 2019\n",
    "def get_events(data):\n",
    "    events = []\n",
    "\n",
    "    april = pd.date_range(start='4/1/2019', end='4-30-2019').date\n",
    "    format = '%Y-%m-%d'\n",
    "\n",
    "    for i in data:\n",
    "        for j in i[\"restaurants\"]:\n",
    "\n",
    "            if \"zomato_events\" in j[\"restaurant\"]:\n",
    "                for k in j[\"restaurant\"][\"zomato_events\"]:\n",
    "                    start = datetime.strptime(k[\"event\"][\"start_date\"], format).date()\n",
    "                    end = datetime.strptime(k[\"event\"][\"end_date\"], format).date()\n",
    "                    \n",
    "                    if (start in april or end in april) or (start < april[0] and end > april[-1]):\n",
    "                        url = ', \\n'.join([m[\"photo\"][\"url\"] for m in k[\"event\"][\"photos\"]])\n",
    "                        entry = [k[\"event\"][\"event_id\"], j[\"restaurant\"][\"id\"], j[\"restaurant\"][\"name\"], \n",
    "                                url, k[\"event\"][\"title\"], start, end]\n",
    "                        events.append(entry)\n",
    "    return events\n",
    "\n",
    "events = get_events(data)"
   ]
  },
  {
   "cell_type": "code",
   "execution_count": null,
   "metadata": {},
   "outputs": [],
   "source": [
    "## Coverting to csv file\n",
    "csvheader = [\"EVENT ID\", \"RESTAURANT ID\", \"RESTAURANT NAME\", \"PHOTO URL\",\n",
    "             \"EVENT TITLE\", \"EVENT START DATE\", \"EVENT END DATE\"]\n",
    "def to_csv_na(headers, filename, data):\n",
    "    with open(filename, \"w\", encoding=\"UTF-8\", newline=\"\") as file:\n",
    "        writer = csv.writer(file)\n",
    "        writer.writerow(csvheader)\n",
    "        # populating empty cells with N.A.\n",
    "        for event in data:\n",
    "            event = [e if e != \"\" else 'N.A.' for e in event]\n",
    "            writer.writerow(event)\n",
    "\n",
    "to_csv_na(csvheader, \"restaurants_events.csv\", events)"
   ]
  },
  {
   "cell_type": "markdown",
   "metadata": {},
   "source": [
    "### Part 3"
   ]
  },
  {
   "cell_type": "code",
   "execution_count": 57,
   "metadata": {},
   "outputs": [
    {
     "name": "stdout",
     "output_type": "stream",
     "text": [
      "{'Excellent': 4.5, 'Very Good': 4.0, 'Good': 3.5, 'Average': 2.5, 'Poor': 2.2}\n"
     ]
    }
   ],
   "source": [
    "## Getting the thresholds for different text ratings\n",
    "def get_threshold(text, threshold):\n",
    "    for i in data:\n",
    "        for j in i[\"restaurants\"]:\n",
    "            rating_text = j[\"restaurant\"][\"user_rating\"][\"rating_text\"]\n",
    "            aggregate_rating = float(j[\"restaurant\"][\"user_rating\"][\"aggregate_rating\"])\n",
    "            if rating_text in text:\n",
    "                if rating_text in threshold:\n",
    "                    if aggregate_rating < threshold[rating_text]:\n",
    "                        threshold[rating_text] = aggregate_rating\n",
    "    print(threshold)\n",
    "\n",
    "text = [\"Excellent\", \"Very Good\", \"Good\", \"Average\", \"Poor\"]\n",
    "threshold = {\"Excellent\": 5.0, \"Very Good\": 5.0,\"Good\": 5.0, \"Average\": 5.0, \"Poor\": 5.0}\n",
    "\n",
    "get_threshold(text, threshold)"
   ]
  },
  {
   "cell_type": "markdown",
   "metadata": {},
   "source": [
    "However, assuming that the lowest rating is Poor, the threshold should be 0 instead. Thus, threshold of different rating text based on aggregate rating: \n",
    "\n",
    "Excellent: 4.5 ≤ x ≤ 5.0\n",
    "\n",
    "Very Good: 4.0 ≤ x < 4.5\n",
    "\n",
    "Good: 3.5 ≤ x < 4.0\n",
    "\n",
    "Average: 2.5 ≤ x  < 3.5\n",
    "\n",
    "Poor: x < 2.5"
   ]
  }
 ],
 "metadata": {
  "kernelspec": {
   "display_name": "Python 3",
   "language": "python",
   "name": "python3"
  },
  "language_info": {
   "codemirror_mode": {
    "name": "ipython",
    "version": 3
   },
   "file_extension": ".py",
   "mimetype": "text/x-python",
   "name": "python",
   "nbconvert_exporter": "python",
   "pygments_lexer": "ipython3",
   "version": "3.12.2"
  }
 },
 "nbformat": 4,
 "nbformat_minor": 2
}
